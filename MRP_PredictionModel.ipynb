{
  "nbformat": 4,
  "nbformat_minor": 0,
  "metadata": {
    "colab": {
      "name": "MRP_PredictionModel.ipynb",
      "provenance": [],
      "collapsed_sections": []
    },
    "kernelspec": {
      "name": "python3",
      "display_name": "Python 3"
    }
  },
  "cells": [
    {
      "cell_type": "code",
      "metadata": {
        "id": "pIPPupMUQaBI",
        "colab_type": "code",
        "colab": {}
      },
      "source": [
        "import pandas as pd\n",
        "from sklearn.compose import ColumnTransformer\n",
        "from sklearn.pipeline import Pipeline\n",
        "from sklearn.preprocessing import  OneHotEncoder,StandardScaler\n",
        "from sklearn.impute import SimpleImputer\n",
        "from sklearn.ensemble import RandomForestClassifier\n",
        "import numpy as np\n",
        "from sklearn.model_selection import train_test_split\n",
        "from sklearn.metrics import accuracy_score"
      ],
      "execution_count": 0,
      "outputs": []
    },
    {
      "cell_type": "code",
      "metadata": {
        "id": "TJpAmACwdLgR",
        "colab_type": "code",
        "colab": {}
      },
      "source": [
        "df=pd.read_excel(\"TrainingDataWithEPO_Others_Applicants.xlsx\")"
      ],
      "execution_count": 0,
      "outputs": []
    },
    {
      "cell_type": "code",
      "metadata": {
        "id": "ahWmijCgdqie",
        "colab_type": "code",
        "colab": {}
      },
      "source": [
        "df['Disposal-Reason']=df['Disposal-Reason'].map({'FULL TERM':'Others','EARLY PAYOUT':'EARLY PAYOUT','SETTLEMENT':'Others','WILL NOT PAY':'Others','LOST COURT CASE':'Others','DECEASED':'Others','FINANCIAL DIFF':'Others','COLLECTION AGY':'Others','REPOSSESSION':'Others'})"
      ],
      "execution_count": 0,
      "outputs": []
    },
    {
      "cell_type": "code",
      "metadata": {
        "id": "OthYTSK6d-S7",
        "colab_type": "code",
        "colab": {}
      },
      "source": [
        "df['Disposal-Reason']=df['Disposal-Reason'].map({'EARLY PAYOUT':'EPO','Others':'Others'})\n"
      ],
      "execution_count": 0,
      "outputs": []
    },
    {
      "cell_type": "code",
      "metadata": {
        "id": "0gwAt6-JeJyj",
        "colab_type": "code",
        "colab": {}
      },
      "source": [
        "indexes=np.where(df['Disposal-Reason'].isna())\n",
        "ind=list(indexes)\n",
        "y=df['Disposal-Reason']\n",
        "\n",
        "X=df[[\"Applicant_Age\",\n",
        "\"ApplicationNumber\",\n",
        "\"Applicant_Province_State\",\n",
        "\"Applicant_ResidentialStatus\",\n",
        "\"Contract_Interest_Rate\",\n",
        "\"Applicant_Gender\",\n",
        "\"VerifiedMonthlyIncome\",\n",
        "\"Applicant_Beacon\",\n",
        "\"MaritalStatus\",\n",
        "\"Number_of_nsfs\",\t\n",
        "\"Number_over30\",\t\n",
        "\"Number_over60\",\t\n",
        "\"Number_over90\",\t\n",
        "\"Number_over120\",\n",
        "\"Payment_Frequency\",\n",
        "\"Contract_Start_Date\",\t\n",
        "\"Contract_Term_Months\",\n",
        "\"monthlyPayment\",\n",
        "\"DealerName\",\t\n",
        "\"DealerProvince\",\t\n",
        "\"DealerRegion\",\t\n",
        "\"LastRiskTierName\",\t\n",
        "\"DealerID\",\n",
        "\"Asset_Make\",\t\n",
        "\"Asset_Series\",\n",
        "\"Asset_Year\",\n",
        "\"Asset_Type\",\n",
        "\"Asset_Condition\",\n",
        "\"OriginalBookType\",\n",
        "\"LastAmountToFinance\",\n",
        "\"PaymentFrequency\",\n",
        "\"ExtendedWarranty\",\n",
        "\"OptionalAHInsurance\",\n",
        "\"Term\",\t\n",
        "\"Reserve\"]]\n"
      ],
      "execution_count": 0,
      "outputs": []
    },
    {
      "cell_type": "code",
      "metadata": {
        "id": "VNdvRhxtej1I",
        "colab_type": "code",
        "outputId": "707a0837-356d-4a16-c550-1ba9566cc785",
        "colab": {
          "base_uri": "https://localhost:8080/",
          "height": 52
        }
      },
      "source": [
        "print(X.shape)\n",
        "print(y.shape)"
      ],
      "execution_count": 6,
      "outputs": [
        {
          "output_type": "stream",
          "text": [
            "(1251, 35)\n",
            "(1251,)\n"
          ],
          "name": "stdout"
        }
      ]
    },
    {
      "cell_type": "code",
      "metadata": {
        "id": "oBMpYy37enDJ",
        "colab_type": "code",
        "outputId": "c3782ae1-53f7-4f45-afd1-1c4da41da341",
        "colab": {
          "base_uri": "https://localhost:8080/",
          "height": 141
        }
      },
      "source": [
        "numeric_columns=X.select_dtypes(include=[\"int64\",\"float64\"]).columns\n",
        "numeric_columns"
      ],
      "execution_count": 7,
      "outputs": [
        {
          "output_type": "execute_result",
          "data": {
            "text/plain": [
              "Index(['Applicant_Age', 'Contract_Interest_Rate', 'VerifiedMonthlyIncome',\n",
              "       'Applicant_Beacon', 'Number_of_nsfs', 'Number_over30', 'Number_over60',\n",
              "       'Number_over90', 'Number_over120', 'Contract_Term_Months',\n",
              "       'monthlyPayment', 'DealerID', 'Asset_Year', 'LastAmountToFinance',\n",
              "       'PaymentFrequency', 'ExtendedWarranty', 'OptionalAHInsurance', 'Term',\n",
              "       'Reserve'],\n",
              "      dtype='object')"
            ]
          },
          "metadata": {
            "tags": []
          },
          "execution_count": 7
        }
      ]
    },
    {
      "cell_type": "code",
      "metadata": {
        "id": "VBxoymM1eq7v",
        "colab_type": "code",
        "outputId": "e25a0267-7be9-4a19-af73-130f012e4ee6",
        "colab": {
          "base_uri": "https://localhost:8080/",
          "height": 124
        }
      },
      "source": [
        "categorical_columns=X.select_dtypes(include=[\"object\"]).columns\n",
        "categorical_columns"
      ],
      "execution_count": 8,
      "outputs": [
        {
          "output_type": "execute_result",
          "data": {
            "text/plain": [
              "Index(['ApplicationNumber', 'Applicant_Province_State',\n",
              "       'Applicant_ResidentialStatus', 'Applicant_Gender', 'MaritalStatus',\n",
              "       'Payment_Frequency', 'DealerName', 'DealerProvince', 'DealerRegion',\n",
              "       'LastRiskTierName', 'Asset_Make', 'Asset_Series', 'Asset_Type',\n",
              "       'Asset_Condition', 'OriginalBookType'],\n",
              "      dtype='object')"
            ]
          },
          "metadata": {
            "tags": []
          },
          "execution_count": 8
        }
      ]
    },
    {
      "cell_type": "code",
      "metadata": {
        "id": "3ga3hzJMesv1",
        "colab_type": "code",
        "colab": {}
      },
      "source": [
        "numeric_transformer=Pipeline(steps=[(\"imputer\",SimpleImputer(strategy=\"median\")),(\"scalar\",StandardScaler())])\n",
        "categorical_transformer=Pipeline(steps=[(\"imputer\",SimpleImputer(strategy=\"most_frequent\")),(\"encoding\",OneHotEncoder(handle_unknown='ignore'))])"
      ],
      "execution_count": 0,
      "outputs": []
    },
    {
      "cell_type": "code",
      "metadata": {
        "id": "gn-KZ0oOe4ys",
        "colab_type": "code",
        "colab": {}
      },
      "source": [
        "preprocess=ColumnTransformer(transformers=[(\"num\",numeric_transformer,numeric_columns),(\"cat\",categorical_transformer,categorical_columns)])"
      ],
      "execution_count": 0,
      "outputs": []
    },
    {
      "cell_type": "code",
      "metadata": {
        "id": "Aga6SaWae9BQ",
        "colab_type": "code",
        "colab": {}
      },
      "source": [
        "pipe=Pipeline(steps=[(\"preprocess\",preprocess),(\"estimator\",RandomForestClassifier(25))])\n"
      ],
      "execution_count": 0,
      "outputs": []
    },
    {
      "cell_type": "code",
      "metadata": {
        "id": "3vng5LH1fAzo",
        "colab_type": "code",
        "outputId": "24aa271e-9c63-4a2f-f8ae-3286474f3fff",
        "colab": {
          "base_uri": "https://localhost:8080/",
          "height": 195
        }
      },
      "source": [
        "x_train,x_test,y_train,y_test=train_test_split(X,y,test_size=0.2,random_state=25,stratify=y)\n",
        "print(x_train.shape)\n",
        "print(x_test.shape)\n",
        "print(y_train.shape)\n",
        "print(y_test.shape)\n",
        "print(y_test[:5])"
      ],
      "execution_count": 12,
      "outputs": [
        {
          "output_type": "stream",
          "text": [
            "(1000, 35)\n",
            "(251, 35)\n",
            "(1000,)\n",
            "(251,)\n",
            "306        EPO\n",
            "1129    Others\n",
            "304        EPO\n",
            "1102    Others\n",
            "383        EPO\n",
            "Name: Disposal-Reason, dtype: object\n"
          ],
          "name": "stdout"
        }
      ]
    },
    {
      "cell_type": "code",
      "metadata": {
        "id": "Xj-SI8bUfErT",
        "colab_type": "code",
        "outputId": "fd9f4d1d-1885-4117-95a4-62b3feb44e0e",
        "colab": {
          "base_uri": "https://localhost:8080/",
          "height": 532
        }
      },
      "source": [
        "pipe.fit(x_train,y_train)"
      ],
      "execution_count": 13,
      "outputs": [
        {
          "output_type": "execute_result",
          "data": {
            "text/plain": [
              "Pipeline(memory=None,\n",
              "         steps=[('preprocess',\n",
              "                 ColumnTransformer(n_jobs=None, remainder='drop',\n",
              "                                   sparse_threshold=0.3,\n",
              "                                   transformer_weights=None,\n",
              "                                   transformers=[('num',\n",
              "                                                  Pipeline(memory=None,\n",
              "                                                           steps=[('imputer',\n",
              "                                                                   SimpleImputer(add_indicator=False,\n",
              "                                                                                 copy=True,\n",
              "                                                                                 fill_value=None,\n",
              "                                                                                 missing_values=nan,\n",
              "                                                                                 strategy='median',\n",
              "                                                                                 verbose=0)),\n",
              "                                                                  ('scalar',\n",
              "                                                                   StandardScaler(copy=True,\n",
              "                                                                                  with_mean=T...\n",
              "                 RandomForestClassifier(bootstrap=True, ccp_alpha=0.0,\n",
              "                                        class_weight=None, criterion='gini',\n",
              "                                        max_depth=None, max_features='auto',\n",
              "                                        max_leaf_nodes=None, max_samples=None,\n",
              "                                        min_impurity_decrease=0.0,\n",
              "                                        min_impurity_split=None,\n",
              "                                        min_samples_leaf=1, min_samples_split=2,\n",
              "                                        min_weight_fraction_leaf=0.0,\n",
              "                                        n_estimators=25, n_jobs=None,\n",
              "                                        oob_score=False, random_state=None,\n",
              "                                        verbose=0, warm_start=False))],\n",
              "         verbose=False)"
            ]
          },
          "metadata": {
            "tags": []
          },
          "execution_count": 13
        }
      ]
    },
    {
      "cell_type": "code",
      "metadata": {
        "id": "Gtnzh7U9fXSV",
        "colab_type": "code",
        "outputId": "c165c759-bb0b-4895-9cdf-068ef3619cb7",
        "colab": {
          "base_uri": "https://localhost:8080/",
          "height": 106
        }
      },
      "source": [
        "pred=pipe.predict_proba(x_test.tail(5))\n",
        "print(\"The predicted probabilities of each class\",pred)\n"
      ],
      "execution_count": 14,
      "outputs": [
        {
          "output_type": "stream",
          "text": [
            "The predicted probabilities of each class [[0.96 0.04]\n",
            " [0.92 0.08]\n",
            " [0.88 0.12]\n",
            " [0.8  0.2 ]\n",
            " [0.88 0.12]]\n"
          ],
          "name": "stdout"
        }
      ]
    },
    {
      "cell_type": "code",
      "metadata": {
        "id": "bsTni8QvfZo0",
        "colab_type": "code",
        "outputId": "e645f928-2403-48f8-85f0-c11181f1e4e8",
        "colab": {
          "base_uri": "https://localhost:8080/",
          "height": 52
        }
      },
      "source": [
        "predicted=pipe.predict(x_test.tail(10))\n",
        "print(predicted)\n",
        "x_test.tail(5).index\n"
      ],
      "execution_count": 15,
      "outputs": [
        {
          "output_type": "stream",
          "text": [
            "['EPO' 'EPO' 'EPO' 'Others' 'EPO' 'EPO' 'EPO' 'EPO' 'EPO' 'EPO']\n"
          ],
          "name": "stdout"
        },
        {
          "output_type": "execute_result",
          "data": {
            "text/plain": [
              "Int64Index([230, 352, 722, 434, 622], dtype='int64')"
            ]
          },
          "metadata": {
            "tags": []
          },
          "execution_count": 15
        }
      ]
    },
    {
      "cell_type": "code",
      "metadata": {
        "id": "mo0ei2_s-Q_0",
        "colab_type": "code",
        "outputId": "d2958e4b-d6f7-4daa-e893-4f81d0b4cac9",
        "colab": {
          "base_uri": "https://localhost:8080/",
          "height": 124
        }
      },
      "source": [
        "y_test[[230, 352, 722, 434, 622]]"
      ],
      "execution_count": 16,
      "outputs": [
        {
          "output_type": "execute_result",
          "data": {
            "text/plain": [
              "230    EPO\n",
              "352    EPO\n",
              "722    EPO\n",
              "434    EPO\n",
              "622    EPO\n",
              "Name: Disposal-Reason, dtype: object"
            ]
          },
          "metadata": {
            "tags": []
          },
          "execution_count": 16
        }
      ]
    },
    {
      "cell_type": "code",
      "metadata": {
        "id": "oH_hc3IJ-OZO",
        "colab_type": "code",
        "outputId": "7f4de48b-3159-41f0-e164-46bc3c483beb",
        "colab": {
          "base_uri": "https://localhost:8080/",
          "height": 35
        }
      },
      "source": [
        "predAll=pipe.predict(x_test)\n",
        "accuracy_score(y_test,predAll)\n"
      ],
      "execution_count": 17,
      "outputs": [
        {
          "output_type": "execute_result",
          "data": {
            "text/plain": [
              "0.9920318725099602"
            ]
          },
          "metadata": {
            "tags": []
          },
          "execution_count": 17
        }
      ]
    },
    {
      "cell_type": "code",
      "metadata": {
        "id": "GqnX77V-rg1q",
        "colab_type": "code",
        "colab": {}
      },
      "source": [
        "df1=pd.read_excel(\"TestingDataWithSomeActive_EPO_Applicants.xlsx\")"
      ],
      "execution_count": 0,
      "outputs": []
    },
    {
      "cell_type": "code",
      "metadata": {
        "id": "DFoFe3L5rpwI",
        "colab_type": "code",
        "outputId": "2d048671-58af-4b8e-fd4e-3b1e50648f72",
        "colab": {
          "base_uri": "https://localhost:8080/",
          "height": 70
        }
      },
      "source": [
        "df1['Disposal-Reason'].value_counts()"
      ],
      "execution_count": 19,
      "outputs": [
        {
          "output_type": "execute_result",
          "data": {
            "text/plain": [
              "EARLY PAYOUT      1060\n",
              "Not Applicable     548\n",
              "Name: Disposal-Reason, dtype: int64"
            ]
          },
          "metadata": {
            "tags": []
          },
          "execution_count": 19
        }
      ]
    },
    {
      "cell_type": "code",
      "metadata": {
        "id": "yxSOrqYOWgKJ",
        "colab_type": "code",
        "outputId": "c3506d7a-e85f-488a-b617-7ae9b7b49e94",
        "colab": {
          "base_uri": "https://localhost:8080/",
          "height": 479
        }
      },
      "source": [
        "df1.columns"
      ],
      "execution_count": 20,
      "outputs": [
        {
          "output_type": "execute_result",
          "data": {
            "text/plain": [
              "Index(['ApplicationNumber', 'Applicant_Age', 'Applicant_Gender',\n",
              "       'Applicant_Province_State', 'Applicant_ResidentialStatus',\n",
              "       'Applicant_Beacon', 'VerifiedMonthlyIncome', 'MaritalStatus', 'Prefix',\n",
              "       'DealerTrack_Number', 'Contract_Number', 'Contract_Interest_Rate',\n",
              "       'Number_of_nsfs', 'Number_over30', 'Number_over60', 'Number_over90',\n",
              "       'Number_over120', 'Contract_Start_Date', 'Contract_Term_Months',\n",
              "       'Payment_Frequency', 'Contract_Status', 'Contract_Status_Date',\n",
              "       'Disposal-Reason', 'Disposal-Type', 'Contract_Disposal_Date',\n",
              "       'Cost_Base_Finance_Amount', 'Vehicle_Model_Type', 'Vendor_Name',\n",
              "       'monthlyPayment', 'ApplicationID', 'FirstSubmissionDate',\n",
              "       'FirstDecisionDate', 'LastSubmissionDate', 'LastDecisionDate',\n",
              "       'CreditWorkflowState', 'AuditFundingWorkflowState',\n",
              "       'IncomeWorkflowState', 'FundingStartDate', 'BookingDate',\n",
              "       'IncomeStartDate', 'IncomeCompletedDate', 'FundingAnalyst',\n",
              "       'IncomeAnalyst', 'LastCreditDecision', 'DealerName', 'DealerProvince',\n",
              "       'DealerRegion', 'CreditStartDate', 'CreditAnalyst',\n",
              "       'FirstResponseFundingStartDate', 'FirstResponseFundingEndDate',\n",
              "       'FundingEndDate', 'InitialIncomeCompletedDate', 'IncomeStatus',\n",
              "       'FundingStartDate3', 'FundingEndDate3', 'DecisionCount',\n",
              "       'LastRiskTierName', 'IncomeStartDate3', 'IncomeEndDate3', 'DealerID',\n",
              "       'FundingReserve', 'FundingAdditionalReserve', 'DocumentsReceivedDate',\n",
              "       'Asset_Make', 'Asset_Model', 'Asset_Series', 'Asset_Year', 'Asset_Type',\n",
              "       'Asset_Condition', 'LenderBookValue', 'OriginalBookType',\n",
              "       'LastCreditDecisionDate', 'LastAmountToFinance', 'ExtendedWarranty',\n",
              "       'OptionalAHInsurance', 'PaymentFrequency', 'Term', 'Reserve'],\n",
              "      dtype='object')"
            ]
          },
          "metadata": {
            "tags": []
          },
          "execution_count": 20
        }
      ]
    },
    {
      "cell_type": "code",
      "metadata": {
        "id": "58DHHkH2vuka",
        "colab_type": "code",
        "colab": {}
      },
      "source": [
        "testData= df1[[\"Applicant_Age\",\n",
        "\"ApplicationNumber\",\n",
        "\"Applicant_Province_State\",\n",
        "\"Applicant_ResidentialStatus\",\n",
        "\"Contract_Interest_Rate\",\n",
        "\"Applicant_Gender\",\n",
        "\"VerifiedMonthlyIncome\",\n",
        "\"Applicant_Beacon\",\n",
        "\"MaritalStatus\",\n",
        "\"Number_of_nsfs\",\t\n",
        "\"Number_over30\",\t\n",
        "\"Number_over60\",\t\n",
        "\"Number_over90\",\t\n",
        "\"Number_over120\",\n",
        "\"Payment_Frequency\",\n",
        "\"Contract_Start_Date\",\t\n",
        "\"Contract_Term_Months\",\n",
        "\"monthlyPayment\",\n",
        "\"DealerName\",\t\n",
        "\"DealerProvince\",\t\n",
        "\"DealerRegion\",\t\n",
        "\"LastRiskTierName\",\t\n",
        "\"DealerID\",\n",
        "\"Asset_Make\",\t\n",
        "\"Asset_Series\",\n",
        "\"Asset_Year\",\n",
        "\"Asset_Type\",\n",
        "\"Asset_Condition\",\n",
        "\"OriginalBookType\",\n",
        "\"LastAmountToFinance\",\n",
        "\"PaymentFrequency\",\n",
        "\"ExtendedWarranty\",\n",
        "\"OptionalAHInsurance\",\n",
        "\"Term\",\t\n",
        "\"Reserve\"]]"
      ],
      "execution_count": 0,
      "outputs": []
    },
    {
      "cell_type": "code",
      "metadata": {
        "id": "eOou8ZSCv-9p",
        "colab_type": "code",
        "outputId": "85dac1fc-0f08-4450-ff05-38fee2c7d3a6",
        "colab": {
          "base_uri": "https://localhost:8080/",
          "height": 230
        }
      },
      "source": [
        "testData.columns"
      ],
      "execution_count": 22,
      "outputs": [
        {
          "output_type": "execute_result",
          "data": {
            "text/plain": [
              "Index(['Applicant_Age', 'ApplicationNumber', 'Applicant_Province_State',\n",
              "       'Applicant_ResidentialStatus', 'Contract_Interest_Rate',\n",
              "       'Applicant_Gender', 'VerifiedMonthlyIncome', 'Applicant_Beacon',\n",
              "       'MaritalStatus', 'Number_of_nsfs', 'Number_over30', 'Number_over60',\n",
              "       'Number_over90', 'Number_over120', 'Payment_Frequency',\n",
              "       'Contract_Start_Date', 'Contract_Term_Months', 'monthlyPayment',\n",
              "       'DealerName', 'DealerProvince', 'DealerRegion', 'LastRiskTierName',\n",
              "       'DealerID', 'Asset_Make', 'Asset_Series', 'Asset_Year', 'Asset_Type',\n",
              "       'Asset_Condition', 'OriginalBookType', 'LastAmountToFinance',\n",
              "       'PaymentFrequency', 'ExtendedWarranty', 'OptionalAHInsurance', 'Term',\n",
              "       'Reserve'],\n",
              "      dtype='object')"
            ]
          },
          "metadata": {
            "tags": []
          },
          "execution_count": 22
        }
      ]
    },
    {
      "cell_type": "code",
      "metadata": {
        "id": "cBwlzKZ-wXsN",
        "colab_type": "code",
        "outputId": "636ad24a-ae86-4ddb-b889-8672bd18dfaa",
        "colab": {
          "base_uri": "https://localhost:8080/",
          "height": 639
        }
      },
      "source": [
        "testData10Columns=testData.loc[10:]\n",
        "testData10Columns"
      ],
      "execution_count": 23,
      "outputs": [
        {
          "output_type": "execute_result",
          "data": {
            "text/html": [
              "<div>\n",
              "<style scoped>\n",
              "    .dataframe tbody tr th:only-of-type {\n",
              "        vertical-align: middle;\n",
              "    }\n",
              "\n",
              "    .dataframe tbody tr th {\n",
              "        vertical-align: top;\n",
              "    }\n",
              "\n",
              "    .dataframe thead th {\n",
              "        text-align: right;\n",
              "    }\n",
              "</style>\n",
              "<table border=\"1\" class=\"dataframe\">\n",
              "  <thead>\n",
              "    <tr style=\"text-align: right;\">\n",
              "      <th></th>\n",
              "      <th>Applicant_Age</th>\n",
              "      <th>ApplicationNumber</th>\n",
              "      <th>Applicant_Province_State</th>\n",
              "      <th>Applicant_ResidentialStatus</th>\n",
              "      <th>Contract_Interest_Rate</th>\n",
              "      <th>Applicant_Gender</th>\n",
              "      <th>VerifiedMonthlyIncome</th>\n",
              "      <th>Applicant_Beacon</th>\n",
              "      <th>MaritalStatus</th>\n",
              "      <th>Number_of_nsfs</th>\n",
              "      <th>Number_over30</th>\n",
              "      <th>Number_over60</th>\n",
              "      <th>Number_over90</th>\n",
              "      <th>Number_over120</th>\n",
              "      <th>Payment_Frequency</th>\n",
              "      <th>Contract_Start_Date</th>\n",
              "      <th>Contract_Term_Months</th>\n",
              "      <th>monthlyPayment</th>\n",
              "      <th>DealerName</th>\n",
              "      <th>DealerProvince</th>\n",
              "      <th>DealerRegion</th>\n",
              "      <th>LastRiskTierName</th>\n",
              "      <th>DealerID</th>\n",
              "      <th>Asset_Make</th>\n",
              "      <th>Asset_Series</th>\n",
              "      <th>Asset_Year</th>\n",
              "      <th>Asset_Type</th>\n",
              "      <th>Asset_Condition</th>\n",
              "      <th>OriginalBookType</th>\n",
              "      <th>LastAmountToFinance</th>\n",
              "      <th>PaymentFrequency</th>\n",
              "      <th>ExtendedWarranty</th>\n",
              "      <th>OptionalAHInsurance</th>\n",
              "      <th>Term</th>\n",
              "      <th>Reserve</th>\n",
              "    </tr>\n",
              "  </thead>\n",
              "  <tbody>\n",
              "    <tr>\n",
              "      <th>10</th>\n",
              "      <td>44</td>\n",
              "      <td>DT13292113SON02</td>\n",
              "      <td>ON</td>\n",
              "      <td>Rent</td>\n",
              "      <td>0.00</td>\n",
              "      <td>F</td>\n",
              "      <td>4489.83</td>\n",
              "      <td>0</td>\n",
              "      <td>CL</td>\n",
              "      <td>0</td>\n",
              "      <td>5</td>\n",
              "      <td>0</td>\n",
              "      <td>0</td>\n",
              "      <td>0</td>\n",
              "      <td>Bi-Weekly</td>\n",
              "      <td>2017-06-23</td>\n",
              "      <td>54</td>\n",
              "      <td>222.26</td>\n",
              "      <td>ELGIN CHRYSLER LTD.</td>\n",
              "      <td>ON</td>\n",
              "      <td>Southern Ontario</td>\n",
              "      <td>S2</td>\n",
              "      <td>1732</td>\n",
              "      <td>Kia</td>\n",
              "      <td>2.0L 4u Burner</td>\n",
              "      <td>2011</td>\n",
              "      <td>Auto</td>\n",
              "      <td>Used</td>\n",
              "      <td>Extra Clean</td>\n",
              "      <td>17998.31</td>\n",
              "      <td>26</td>\n",
              "      <td>1299.0</td>\n",
              "      <td>1099.0</td>\n",
              "      <td>66</td>\n",
              "      <td>350</td>\n",
              "    </tr>\n",
              "    <tr>\n",
              "      <th>11</th>\n",
              "      <td>40</td>\n",
              "      <td>DT13755817SON02</td>\n",
              "      <td>ON</td>\n",
              "      <td>Rent</td>\n",
              "      <td>0.00</td>\n",
              "      <td>F</td>\n",
              "      <td>5424.90</td>\n",
              "      <td>0</td>\n",
              "      <td>SG</td>\n",
              "      <td>4</td>\n",
              "      <td>0</td>\n",
              "      <td>0</td>\n",
              "      <td>0</td>\n",
              "      <td>0</td>\n",
              "      <td>Monthly</td>\n",
              "      <td>2017-06-23</td>\n",
              "      <td>56</td>\n",
              "      <td>551.14</td>\n",
              "      <td>TWO GUYS QUALITY CARS INC</td>\n",
              "      <td>ON</td>\n",
              "      <td>GTA West</td>\n",
              "      <td>S1</td>\n",
              "      <td>1913</td>\n",
              "      <td>Chevrolet</td>\n",
              "      <td>1LT</td>\n",
              "      <td>2011</td>\n",
              "      <td>Auto</td>\n",
              "      <td>Used</td>\n",
              "      <td>Clean</td>\n",
              "      <td>18518.35</td>\n",
              "      <td>26</td>\n",
              "      <td>0.0</td>\n",
              "      <td>0.0</td>\n",
              "      <td>66</td>\n",
              "      <td>350</td>\n",
              "    </tr>\n",
              "    <tr>\n",
              "      <th>12</th>\n",
              "      <td>49</td>\n",
              "      <td>DT13794479SON02</td>\n",
              "      <td>ON</td>\n",
              "      <td>Rent</td>\n",
              "      <td>0.00</td>\n",
              "      <td>M</td>\n",
              "      <td>4302.04</td>\n",
              "      <td>0</td>\n",
              "      <td>MR</td>\n",
              "      <td>4</td>\n",
              "      <td>18</td>\n",
              "      <td>10</td>\n",
              "      <td>4</td>\n",
              "      <td>0</td>\n",
              "      <td>Bi-Weekly</td>\n",
              "      <td>2017-06-30</td>\n",
              "      <td>57</td>\n",
              "      <td>181.13</td>\n",
              "      <td>West Gate Leasing</td>\n",
              "      <td>ON</td>\n",
              "      <td>GTA East</td>\n",
              "      <td>S1</td>\n",
              "      <td>1937</td>\n",
              "      <td>Nissan</td>\n",
              "      <td>S</td>\n",
              "      <td>2012</td>\n",
              "      <td>Auto</td>\n",
              "      <td>Used</td>\n",
              "      <td>Extra Clean</td>\n",
              "      <td>13464.11</td>\n",
              "      <td>26</td>\n",
              "      <td>1349.0</td>\n",
              "      <td>0.0</td>\n",
              "      <td>66</td>\n",
              "      <td>350</td>\n",
              "    </tr>\n",
              "    <tr>\n",
              "      <th>13</th>\n",
              "      <td>30</td>\n",
              "      <td>DT13754312SON02</td>\n",
              "      <td>ON</td>\n",
              "      <td>Rent</td>\n",
              "      <td>0.00</td>\n",
              "      <td>M</td>\n",
              "      <td>2476.41</td>\n",
              "      <td>0</td>\n",
              "      <td>SG</td>\n",
              "      <td>5</td>\n",
              "      <td>36</td>\n",
              "      <td>17</td>\n",
              "      <td>3</td>\n",
              "      <td>0</td>\n",
              "      <td>Bi-Weekly</td>\n",
              "      <td>2017-06-23</td>\n",
              "      <td>51</td>\n",
              "      <td>195.95</td>\n",
              "      <td>Favorit Motors</td>\n",
              "      <td>ON</td>\n",
              "      <td>GTA East</td>\n",
              "      <td>S1</td>\n",
              "      <td>1539</td>\n",
              "      <td>Mazda</td>\n",
              "      <td>GT</td>\n",
              "      <td>2009</td>\n",
              "      <td>Auto</td>\n",
              "      <td>Used</td>\n",
              "      <td>Rough</td>\n",
              "      <td>13946.34</td>\n",
              "      <td>26</td>\n",
              "      <td>1299.0</td>\n",
              "      <td>0.0</td>\n",
              "      <td>60</td>\n",
              "      <td>350</td>\n",
              "    </tr>\n",
              "    <tr>\n",
              "      <th>14</th>\n",
              "      <td>23</td>\n",
              "      <td>DT14011570SON02</td>\n",
              "      <td>ON</td>\n",
              "      <td>Parent</td>\n",
              "      <td>0.00</td>\n",
              "      <td>F</td>\n",
              "      <td>6826.08</td>\n",
              "      <td>0</td>\n",
              "      <td>SG</td>\n",
              "      <td>5</td>\n",
              "      <td>19</td>\n",
              "      <td>12</td>\n",
              "      <td>6</td>\n",
              "      <td>0</td>\n",
              "      <td>Bi-Weekly</td>\n",
              "      <td>2017-06-30</td>\n",
              "      <td>57</td>\n",
              "      <td>178.24</td>\n",
              "      <td>Favorit Motors</td>\n",
              "      <td>ON</td>\n",
              "      <td>GTA East</td>\n",
              "      <td>S2</td>\n",
              "      <td>1539</td>\n",
              "      <td>Chevrolet</td>\n",
              "      <td>LS</td>\n",
              "      <td>2011</td>\n",
              "      <td>Auto</td>\n",
              "      <td>Used</td>\n",
              "      <td>Extra Clean</td>\n",
              "      <td>13531.16</td>\n",
              "      <td>26</td>\n",
              "      <td>1299.0</td>\n",
              "      <td>259.0</td>\n",
              "      <td>66</td>\n",
              "      <td>350</td>\n",
              "    </tr>\n",
              "    <tr>\n",
              "      <th>...</th>\n",
              "      <td>...</td>\n",
              "      <td>...</td>\n",
              "      <td>...</td>\n",
              "      <td>...</td>\n",
              "      <td>...</td>\n",
              "      <td>...</td>\n",
              "      <td>...</td>\n",
              "      <td>...</td>\n",
              "      <td>...</td>\n",
              "      <td>...</td>\n",
              "      <td>...</td>\n",
              "      <td>...</td>\n",
              "      <td>...</td>\n",
              "      <td>...</td>\n",
              "      <td>...</td>\n",
              "      <td>...</td>\n",
              "      <td>...</td>\n",
              "      <td>...</td>\n",
              "      <td>...</td>\n",
              "      <td>...</td>\n",
              "      <td>...</td>\n",
              "      <td>...</td>\n",
              "      <td>...</td>\n",
              "      <td>...</td>\n",
              "      <td>...</td>\n",
              "      <td>...</td>\n",
              "      <td>...</td>\n",
              "      <td>...</td>\n",
              "      <td>...</td>\n",
              "      <td>...</td>\n",
              "      <td>...</td>\n",
              "      <td>...</td>\n",
              "      <td>...</td>\n",
              "      <td>...</td>\n",
              "      <td>...</td>\n",
              "    </tr>\n",
              "    <tr>\n",
              "      <th>1603</th>\n",
              "      <td>30</td>\n",
              "      <td>DT23979855SON02</td>\n",
              "      <td>ON</td>\n",
              "      <td>Other</td>\n",
              "      <td>19.99</td>\n",
              "      <td>F</td>\n",
              "      <td>3120.00</td>\n",
              "      <td>579</td>\n",
              "      <td>SG</td>\n",
              "      <td>0</td>\n",
              "      <td>0</td>\n",
              "      <td>0</td>\n",
              "      <td>0</td>\n",
              "      <td>0</td>\n",
              "      <td>Bi-Weekly</td>\n",
              "      <td>2019-07-26</td>\n",
              "      <td>72</td>\n",
              "      <td>281.75</td>\n",
              "      <td>Milton Kia</td>\n",
              "      <td>ON</td>\n",
              "      <td>GTA West</td>\n",
              "      <td>S3</td>\n",
              "      <td>2550</td>\n",
              "      <td>Toyota</td>\n",
              "      <td>CE</td>\n",
              "      <td>2019</td>\n",
              "      <td>Auto</td>\n",
              "      <td>Used</td>\n",
              "      <td>Clean</td>\n",
              "      <td>26180.00</td>\n",
              "      <td>26</td>\n",
              "      <td>0.0</td>\n",
              "      <td>0.0</td>\n",
              "      <td>72</td>\n",
              "      <td>350</td>\n",
              "    </tr>\n",
              "    <tr>\n",
              "      <th>1604</th>\n",
              "      <td>54</td>\n",
              "      <td>DT24117439SON02</td>\n",
              "      <td>BC</td>\n",
              "      <td>Rent</td>\n",
              "      <td>27.99</td>\n",
              "      <td>M</td>\n",
              "      <td>2400.66</td>\n",
              "      <td>492</td>\n",
              "      <td>SG</td>\n",
              "      <td>0</td>\n",
              "      <td>0</td>\n",
              "      <td>0</td>\n",
              "      <td>0</td>\n",
              "      <td>0</td>\n",
              "      <td>Bi-Weekly</td>\n",
              "      <td>2019-08-08</td>\n",
              "      <td>36</td>\n",
              "      <td>130.20</td>\n",
              "      <td>Cranbrook Kia</td>\n",
              "      <td>BC</td>\n",
              "      <td>British Columbia</td>\n",
              "      <td>S1</td>\n",
              "      <td>2773</td>\n",
              "      <td>Volkswagen</td>\n",
              "      <td>Trendline</td>\n",
              "      <td>2011</td>\n",
              "      <td>Auto</td>\n",
              "      <td>Used</td>\n",
              "      <td>Clean</td>\n",
              "      <td>6847.99</td>\n",
              "      <td>26</td>\n",
              "      <td>607.0</td>\n",
              "      <td>0.0</td>\n",
              "      <td>36</td>\n",
              "      <td>350</td>\n",
              "    </tr>\n",
              "    <tr>\n",
              "      <th>1605</th>\n",
              "      <td>31</td>\n",
              "      <td>DT24376113SON02</td>\n",
              "      <td>ON</td>\n",
              "      <td>Rent</td>\n",
              "      <td>20.99</td>\n",
              "      <td>F</td>\n",
              "      <td>4165.67</td>\n",
              "      <td>594</td>\n",
              "      <td>CL</td>\n",
              "      <td>0</td>\n",
              "      <td>0</td>\n",
              "      <td>0</td>\n",
              "      <td>0</td>\n",
              "      <td>0</td>\n",
              "      <td>Bi-Weekly</td>\n",
              "      <td>2019-09-05</td>\n",
              "      <td>60</td>\n",
              "      <td>229.85</td>\n",
              "      <td>South West Auto Group inc</td>\n",
              "      <td>ON</td>\n",
              "      <td>Southern Ontario</td>\n",
              "      <td>S3</td>\n",
              "      <td>1899</td>\n",
              "      <td>Dodge</td>\n",
              "      <td>SXT</td>\n",
              "      <td>2016</td>\n",
              "      <td>Auto</td>\n",
              "      <td>Used</td>\n",
              "      <td>Rough</td>\n",
              "      <td>18849.70</td>\n",
              "      <td>26</td>\n",
              "      <td>895.0</td>\n",
              "      <td>0.0</td>\n",
              "      <td>60</td>\n",
              "      <td>350</td>\n",
              "    </tr>\n",
              "    <tr>\n",
              "      <th>1606</th>\n",
              "      <td>55</td>\n",
              "      <td>DT24522461SON02</td>\n",
              "      <td>ON</td>\n",
              "      <td>Rent</td>\n",
              "      <td>20.99</td>\n",
              "      <td>M</td>\n",
              "      <td>5193.71</td>\n",
              "      <td>497</td>\n",
              "      <td>MR</td>\n",
              "      <td>1</td>\n",
              "      <td>0</td>\n",
              "      <td>0</td>\n",
              "      <td>0</td>\n",
              "      <td>0</td>\n",
              "      <td>Monthly</td>\n",
              "      <td>2019-09-30</td>\n",
              "      <td>60</td>\n",
              "      <td>415.97</td>\n",
              "      <td>417 Suzuki</td>\n",
              "      <td>ON</td>\n",
              "      <td>Eastern Ontario</td>\n",
              "      <td>S3</td>\n",
              "      <td>1620</td>\n",
              "      <td>Nissan</td>\n",
              "      <td>SV</td>\n",
              "      <td>2013</td>\n",
              "      <td>Auto</td>\n",
              "      <td>Used</td>\n",
              "      <td>Clean</td>\n",
              "      <td>15745.30</td>\n",
              "      <td>26</td>\n",
              "      <td>0.0</td>\n",
              "      <td>0.0</td>\n",
              "      <td>60</td>\n",
              "      <td>350</td>\n",
              "    </tr>\n",
              "    <tr>\n",
              "      <th>1607</th>\n",
              "      <td>42</td>\n",
              "      <td>DT24755777SON02</td>\n",
              "      <td>SK</td>\n",
              "      <td>Own Free &amp; Clear</td>\n",
              "      <td>19.99</td>\n",
              "      <td>F</td>\n",
              "      <td>3550.00</td>\n",
              "      <td>590</td>\n",
              "      <td>MR</td>\n",
              "      <td>2</td>\n",
              "      <td>0</td>\n",
              "      <td>0</td>\n",
              "      <td>0</td>\n",
              "      <td>0</td>\n",
              "      <td>Bi-Weekly</td>\n",
              "      <td>2019-10-05</td>\n",
              "      <td>72</td>\n",
              "      <td>247.15</td>\n",
              "      <td>O'Brians Automotive Inc.</td>\n",
              "      <td>SK</td>\n",
              "      <td>Saskatchewan</td>\n",
              "      <td>S3</td>\n",
              "      <td>2684</td>\n",
              "      <td>Chevrolet</td>\n",
              "      <td>2LT</td>\n",
              "      <td>2015</td>\n",
              "      <td>Auto</td>\n",
              "      <td>Used</td>\n",
              "      <td>Extra Clean</td>\n",
              "      <td>22413.00</td>\n",
              "      <td>26</td>\n",
              "      <td>2500.0</td>\n",
              "      <td>0.0</td>\n",
              "      <td>72</td>\n",
              "      <td>350</td>\n",
              "    </tr>\n",
              "  </tbody>\n",
              "</table>\n",
              "<p>1598 rows × 35 columns</p>\n",
              "</div>"
            ],
            "text/plain": [
              "      Applicant_Age ApplicationNumber  ... Term Reserve\n",
              "10               44   DT13292113SON02  ...   66     350\n",
              "11               40   DT13755817SON02  ...   66     350\n",
              "12               49   DT13794479SON02  ...   66     350\n",
              "13               30   DT13754312SON02  ...   60     350\n",
              "14               23   DT14011570SON02  ...   66     350\n",
              "...             ...               ...  ...  ...     ...\n",
              "1603             30   DT23979855SON02  ...   72     350\n",
              "1604             54   DT24117439SON02  ...   36     350\n",
              "1605             31   DT24376113SON02  ...   60     350\n",
              "1606             55   DT24522461SON02  ...   60     350\n",
              "1607             42   DT24755777SON02  ...   72     350\n",
              "\n",
              "[1598 rows x 35 columns]"
            ]
          },
          "metadata": {
            "tags": []
          },
          "execution_count": 23
        }
      ]
    },
    {
      "cell_type": "code",
      "metadata": {
        "id": "BujjWhEHsS0F",
        "colab_type": "code",
        "outputId": "5fd80d75-e399-4ed6-e093-22a78528df10",
        "colab": {
          "base_uri": "https://localhost:8080/",
          "height": 141
        }
      },
      "source": [
        "prediction=pipe.predict_proba(testData10Columns)\n",
        "print(prediction)\n"
      ],
      "execution_count": 24,
      "outputs": [
        {
          "output_type": "stream",
          "text": [
            "[[0.28 0.72]\n",
            " [0.4  0.6 ]\n",
            " [0.08 0.92]\n",
            " ...\n",
            " [0.88 0.12]\n",
            " [1.   0.  ]\n",
            " [0.96 0.04]]\n"
          ],
          "name": "stdout"
        }
      ]
    },
    {
      "cell_type": "code",
      "metadata": {
        "id": "eoU_NZVa0wQz",
        "colab_type": "code",
        "outputId": "f849fe36-b954-4120-a94c-b4977f17e9d3",
        "colab": {
          "base_uri": "https://localhost:8080/",
          "height": 35
        }
      },
      "source": [
        "predicted=pipe.predict(testData10Columns)\n",
        "print(predicted)"
      ],
      "execution_count": 25,
      "outputs": [
        {
          "output_type": "stream",
          "text": [
            "['Others' 'Others' 'Others' ... 'EPO' 'EPO' 'EPO']\n"
          ],
          "name": "stdout"
        }
      ]
    },
    {
      "cell_type": "code",
      "metadata": {
        "id": "lIz1NFTG7sKS",
        "colab_type": "code",
        "outputId": "93b12415-c6e7-4d1b-c1c7-271b3f739788",
        "colab": {
          "base_uri": "https://localhost:8080/",
          "height": 124
        }
      },
      "source": [
        "testData10Columns['Disposal-Reason']=predicted"
      ],
      "execution_count": 26,
      "outputs": [
        {
          "output_type": "stream",
          "text": [
            "/usr/local/lib/python3.6/dist-packages/ipykernel_launcher.py:1: SettingWithCopyWarning: \n",
            "A value is trying to be set on a copy of a slice from a DataFrame.\n",
            "Try using .loc[row_indexer,col_indexer] = value instead\n",
            "\n",
            "See the caveats in the documentation: https://pandas.pydata.org/pandas-docs/stable/user_guide/indexing.html#returning-a-view-versus-a-copy\n",
            "  \"\"\"Entry point for launching an IPython kernel.\n"
          ],
          "name": "stderr"
        }
      ]
    },
    {
      "cell_type": "code",
      "metadata": {
        "id": "ilMPt4NhwyUQ",
        "colab_type": "code",
        "outputId": "8f2253ef-9683-4f48-e893-455e1fb2e07b",
        "colab": {
          "base_uri": "https://localhost:8080/",
          "height": 35
        }
      },
      "source": [
        "testData10Columns.index"
      ],
      "execution_count": 27,
      "outputs": [
        {
          "output_type": "execute_result",
          "data": {
            "text/plain": [
              "RangeIndex(start=10, stop=1608, step=1)"
            ]
          },
          "metadata": {
            "tags": []
          },
          "execution_count": 27
        }
      ]
    },
    {
      "cell_type": "code",
      "metadata": {
        "id": "s8wMKWJa-RSl",
        "colab_type": "code",
        "colab": {}
      },
      "source": [
        "testData10Columns.to_excel(r'Pred.xlsx', index=False,header=True)"
      ],
      "execution_count": 0,
      "outputs": []
    },
    {
      "cell_type": "code",
      "metadata": {
        "id": "i-_juQ2_-ikJ",
        "colab_type": "code",
        "colab": {}
      },
      "source": [
        ""
      ],
      "execution_count": 0,
      "outputs": []
    }
  ]
}