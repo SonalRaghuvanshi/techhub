{
  "nbformat": 4,
  "nbformat_minor": 0,
  "metadata": {
    "colab": {
      "name": "MRP_PredictionModel.ipynb",
      "provenance": [],
      "collapsed_sections": []
    },
    "kernelspec": {
      "name": "python3",
      "display_name": "Python 3"
    }
  },
  "cells": [
    {
      "cell_type": "code",
      "metadata": {
        "id": "pIPPupMUQaBI",
        "colab_type": "code",
        "colab": {}
      },
      "source": [
        "import pandas as pd\n",
        "from sklearn.compose import ColumnTransformer\n",
        "from sklearn.pipeline import Pipeline\n",
        "from sklearn.preprocessing import  OneHotEncoder,StandardScaler\n",
        "from sklearn.impute import SimpleImputer\n",
        "from sklearn.ensemble import RandomForestClassifier\n",
        "import numpy as np\n",
        "from sklearn.model_selection import train_test_split\n",
        "from sklearn.metrics import accuracy_score"
      ],
      "execution_count": 0,
      "outputs": []
    },
    {
      "cell_type": "code",
      "metadata": {
        "id": "TJpAmACwdLgR",
        "colab_type": "code",
        "colab": {}
      },
      "source": [
        "df=pd.read_excel(\"TrainingDataWithEPO_Others_Applicants.xlsx\")"
      ],
      "execution_count": 0,
      "outputs": []
    },
    {
      "cell_type": "code",
      "metadata": {
        "id": "ahWmijCgdqie",
        "colab_type": "code",
        "colab": {}
      },
      "source": [
        "df['Disposal-Reason']=df['Disposal-Reason'].map({'FULL':'Others','EARLY PAYOUT':'EARLY PAYOUT','SETTLE':'Others','PAY':'Others','LOSTCASE':'Others','DECEASED':'Others','FINANCIAL':'Others','COLLECTION':'Others','REPOSSESSION':'Others'})"
      ],
      "execution_count": 0,
      "outputs": []
    },
    {
      "cell_type": "code",
      "metadata": {
        "id": "OthYTSK6d-S7",
        "colab_type": "code",
        "colab": {}
      },
      "source": [
        "df['Disposal-Reason']=df['Disposal-Reason'].map({'EARLY PAYOUT':'EPO','Others':'Others'})\n"
      ],
      "execution_count": 0,
      "outputs": []
    },
    {
      "cell_type": "code",
      "metadata": {
        "id": "0gwAt6-JeJyj",
        "colab_type": "code",
        "colab": {}
      },
      "source": [
        "indexes=np.where(df['Disposal-Reason'].isna())\n",
        "ind=list(indexes)\n",
        "y=df['Disposal-Reason']\n",
        "\n",
        "X=df[[\"Age\",\n",
        "\"AppNo\",\n",
        "\"App_Prov\"]]\n"
      ],
      "execution_count": 0,
      "outputs": []
    },
    {
      "cell_type": "code",
      "metadata": {
        "id": "VNdvRhxtej1I",
        "colab_type": "code",
        "colab": {}
      },
      "source": [
        "print(X.shape)\n",
        "print(y.shape)"
      ],
      "execution_count": 0,
      "outputs": []
    },
    {
      "cell_type": "code",
      "metadata": {
        "id": "oBMpYy37enDJ",
        "colab_type": "code",
        "colab": {}
      },
      "source": [
        "numeric_columns=X.select_dtypes(include=[\"int64\",\"float64\"]).columns\n",
        "numeric_columns"
      ],
      "execution_count": 0,
      "outputs": []
    },
    {
      "cell_type": "code",
      "metadata": {
        "id": "VBxoymM1eq7v",
        "colab_type": "code",
        "colab": {}
      },
      "source": [
        "categorical_columns=X.select_dtypes(include=[\"object\"]).columns\n",
        "categorical_columns"
      ],
      "execution_count": 0,
      "outputs": []
    },
    {
      "cell_type": "code",
      "metadata": {
        "id": "3ga3hzJMesv1",
        "colab_type": "code",
        "colab": {}
      },
      "source": [
        "numeric_transformer=Pipeline(steps=[(\"imputer\",SimpleImputer(strategy=\"median\")),(\"scalar\",StandardScaler())])\n",
        "categorical_transformer=Pipeline(steps=[(\"imputer\",SimpleImputer(strategy=\"most_frequent\")),(\"encoding\",OneHotEncoder(handle_unknown='ignore'))])"
      ],
      "execution_count": 0,
      "outputs": []
    },
    {
      "cell_type": "code",
      "metadata": {
        "id": "gn-KZ0oOe4ys",
        "colab_type": "code",
        "colab": {}
      },
      "source": [
        "preprocess=ColumnTransformer(transformers=[(\"num\",numeric_transformer,numeric_columns),(\"cat\",categorical_transformer,categorical_columns)])"
      ],
      "execution_count": 0,
      "outputs": []
    },
    {
      "cell_type": "code",
      "metadata": {
        "id": "Aga6SaWae9BQ",
        "colab_type": "code",
        "colab": {}
      },
      "source": [
        "pipe=Pipeline(steps=[(\"preprocess\",preprocess),(\"estimator\",RandomForestClassifier(25))])\n"
      ],
      "execution_count": 0,
      "outputs": []
    },
    {
      "cell_type": "code",
      "metadata": {
        "id": "3vng5LH1fAzo",
        "colab_type": "code",
        "colab": {}
      },
      "source": [
        "x_train,x_test,y_train,y_test=train_test_split(X,y,test_size=0.2,random_state=25,stratify=y)\n",
        "print(x_train.shape)\n",
        "print(x_test.shape)\n",
        "print(y_train.shape)\n",
        "print(y_test.shape)\n",
        "print(y_test[:5])"
      ],
      "execution_count": 0,
      "outputs": []
    },
    {
      "cell_type": "code",
      "metadata": {
        "id": "Xj-SI8bUfErT",
        "colab_type": "code",
        "colab": {}
      },
      "source": [
        "pipe.fit(x_train,y_train)"
      ],
      "execution_count": 0,
      "outputs": []
    },
    {
      "cell_type": "code",
      "metadata": {
        "id": "Gtnzh7U9fXSV",
        "colab_type": "code",
        "colab": {}
      },
      "source": [
        "pred=pipe.predict_proba(x_test.tail(5))\n",
        "print(\"The predicted probabilities of each class\",pred)\n"
      ],
      "execution_count": 0,
      "outputs": []
    },
    {
      "cell_type": "code",
      "metadata": {
        "id": "bsTni8QvfZo0",
        "colab_type": "code",
        "colab": {}
      },
      "source": [
        "predicted=pipe.predict(x_test.tail(10))\n",
        "print(predicted)\n",
        "x_test.tail(5).index\n"
      ],
      "execution_count": 0,
      "outputs": []
    },
    {
      "cell_type": "code",
      "metadata": {
        "id": "mo0ei2_s-Q_0",
        "colab_type": "code",
        "colab": {}
      },
      "source": [
        "y_test[[230, 352, 722, 434, 622]]"
      ],
      "execution_count": 0,
      "outputs": []
    },
    {
      "cell_type": "code",
      "metadata": {
        "id": "oH_hc3IJ-OZO",
        "colab_type": "code",
        "colab": {}
      },
      "source": [
        "predAll=pipe.predict(x_test)\n",
        "accuracy_score(y_test,predAll)\n"
      ],
      "execution_count": 0,
      "outputs": []
    },
    {
      "cell_type": "code",
      "metadata": {
        "id": "GqnX77V-rg1q",
        "colab_type": "code",
        "colab": {}
      },
      "source": [
        "df1=pd.read_excel(\"TestingDataWithSomeActive_EPO_Applicants.xlsx\")"
      ],
      "execution_count": 0,
      "outputs": []
    },
    {
      "cell_type": "code",
      "metadata": {
        "id": "DFoFe3L5rpwI",
        "colab_type": "code",
        "colab": {}
      },
      "source": [
        "df1['Disposal-Reason'].value_counts()"
      ],
      "execution_count": 0,
      "outputs": []
    },
    {
      "cell_type": "code",
      "metadata": {
        "id": "yxSOrqYOWgKJ",
        "colab_type": "code",
        "colab": {}
      },
      "source": [
        "df1.columns"
      ],
      "execution_count": 0,
      "outputs": []
    },
    {
      "cell_type": "code",
      "metadata": {
        "id": "58DHHkH2vuka",
        "colab_type": "code",
        "colab": {}
      },
      "source": [
        "testData= df1[[\"Age\",\n",
        "\"AppNo\",\n",
        "\"App_Prov\"]]"
      ],
      "execution_count": 0,
      "outputs": []
    },
    {
      "cell_type": "code",
      "metadata": {
        "id": "eOou8ZSCv-9p",
        "colab_type": "code",
        "colab": {}
      },
      "source": [
        "testData.columns"
      ],
      "execution_count": 0,
      "outputs": []
    },
    {
      "cell_type": "code",
      "metadata": {
        "id": "cBwlzKZ-wXsN",
        "colab_type": "code",
        "colab": {}
      },
      "source": [
        "testData10Columns=testData.loc[10:]\n",
        "testData10Columns"
      ],
      "execution_count": 0,
      "outputs": []
    },
    {
      "cell_type": "code",
      "metadata": {
        "id": "BujjWhEHsS0F",
        "colab_type": "code",
        "colab": {}
      },
      "source": [
        "prediction=pipe.predict_proba(testData10Columns)\n",
        "print(prediction)\n"
      ],
      "execution_count": 0,
      "outputs": []
    },
    {
      "cell_type": "code",
      "metadata": {
        "id": "eoU_NZVa0wQz",
        "colab_type": "code",
        "colab": {}
      },
      "source": [
        "predicted=pipe.predict(testData10Columns)\n",
        "print(predicted)"
      ],
      "execution_count": 0,
      "outputs": []
    },
    {
      "cell_type": "code",
      "metadata": {
        "id": "lIz1NFTG7sKS",
        "colab_type": "code",
        "colab": {}
      },
      "source": [
        "testData10Columns['Disposal-Reason']=predicted"
      ],
      "execution_count": 0,
      "outputs": []
    },
    {
      "cell_type": "code",
      "metadata": {
        "id": "ilMPt4NhwyUQ",
        "colab_type": "code",
        "colab": {}
      },
      "source": [
        "testData10Columns.index"
      ],
      "execution_count": 0,
      "outputs": []
    },
    {
      "cell_type": "code",
      "metadata": {
        "id": "s8wMKWJa-RSl",
        "colab_type": "code",
        "colab": {}
      },
      "source": [
        "testData10Columns.to_excel(r'Pred.xlsx', index=False,header=True)"
      ],
      "execution_count": 0,
      "outputs": []
    },
    {
      "cell_type": "code",
      "metadata": {
        "id": "i-_juQ2_-ikJ",
        "colab_type": "code",
        "colab": {}
      },
      "source": [
        ""
      ],
      "execution_count": 0,
      "outputs": []
    }
  ]
}
